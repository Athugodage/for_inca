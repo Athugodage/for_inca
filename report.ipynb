{
  "nbformat": 4,
  "nbformat_minor": 0,
  "metadata": {
    "colab": {
      "name": "report.ipynb",
      "provenance": [],
      "collapsed_sections": [],
      "authorship_tag": "ABX9TyP0jpMKOIeKhDMZqx6PeFWO",
      "include_colab_link": true
    },
    "kernelspec": {
      "name": "python3",
      "display_name": "Python 3"
    },
    "language_info": {
      "name": "python"
    },
    "gpuClass": "standard"
  },
  "cells": [
    {
      "cell_type": "markdown",
      "metadata": {
        "id": "view-in-github",
        "colab_type": "text"
      },
      "source": [
        "<a href=\"https://colab.research.google.com/github/Athugodage/for_inca/blob/main/report.ipynb\" target=\"_parent\"><img src=\"https://colab.research.google.com/assets/colab-badge.svg\" alt=\"Open In Colab\"/></a>"
      ]
    },
    {
      "cell_type": "markdown",
      "source": [
        "Report\n",
        "\n",
        "\n",
        "\n",
        "I have collected 1372 reviews for 10 cryptocurrency-related applications in Google Play.\n",
        "\n",
        "These reviews were classified as positive or negative using Transformers fine-tuned distilbert-base-uncased model.\n",
        "\n",
        "The language of the review was identified with Fasttext default model."
      ],
      "metadata": {
        "id": "gOF-3O9ULAw_"
      }
    },
    {
      "cell_type": "code",
      "execution_count": 3,
      "metadata": {
        "id": "9v0TAmjm9ZFj",
        "colab": {
          "base_uri": "https://localhost:8080/",
          "height": 423
        },
        "outputId": "619a3401-825e-47f3-a3c2-b110a4a1bbd6"
      },
      "outputs": [
        {
          "output_type": "execute_result",
          "data": {
            "text/plain": [
              "                         App name        Username            Timestamp  \\\n",
              "0       Crypto.com - Buy BTC, ETH             BKO  2022-06-18 18:10:03   \n",
              "1       Crypto.com - Buy BTC, ETH     Ryan Jessup  2022-05-31 18:12:34   \n",
              "2       Crypto.com - Buy BTC, ETH      Blake Kent  2021-06-17 07:49:31   \n",
              "3       Crypto.com - Buy BTC, ETH     Tooth Picks  2021-11-09 11:52:13   \n",
              "4       Crypto.com - Buy BTC, ETH     Adam Cooper  2021-03-26 11:28:52   \n",
              "...                           ...             ...                  ...   \n",
              "1417  SoBit: Bitcoin Wallet - BTC      Bush Vital  2022-08-03 12:37:05   \n",
              "1418  SoBit: Bitcoin Wallet - BTC  Webster Kuldip  2022-08-03 12:36:44   \n",
              "1419  SoBit: Bitcoin Wallet - BTC     Boyer Canal  2022-08-03 08:05:02   \n",
              "1420  SoBit: Bitcoin Wallet - BTC  Depuydt Hagert  2022-08-21 05:02:26   \n",
              "1421  SoBit: Bitcoin Wallet - BTC        Horn Hwa  2022-08-04 08:07:17   \n",
              "\n",
              "                                        App review text  Sentiment score  \\\n",
              "0     I've had a great experience with this app. At ...         0.995971   \n",
              "1     Opened my ap this morning and it just keeps te...         0.939697   \n",
              "2     I'm not quite sure why there are SO MANY bad r...         0.996500   \n",
              "3     It has its problems, mainly on the fact that i...        -0.991211   \n",
              "4     I personally have had a great experience so fa...         0.996602   \n",
              "...                                                 ...              ...   \n",
              "1417               light, fast and seems to be reliable         0.958312   \n",
              "1418  How can I delete the account and data for this...        -0.996736   \n",
              "1419  Enjoyed and can play in your cell phone,, Chan...         0.995572   \n",
              "1420                          It's worth using. Not bad        -0.711233   \n",
              "1421  This one is easy but had some plobles long way...        -0.950682   \n",
              "\n",
              "     country (language)        Marketplace  \n",
              "0                    en  Google Play Store  \n",
              "1                    en  Google Play Store  \n",
              "2                    en  Google Play Store  \n",
              "3                    en  Google Play Store  \n",
              "4                    en  Google Play Store  \n",
              "...                 ...                ...  \n",
              "1417                 en  Google Play Store  \n",
              "1418                 en  Google Play Store  \n",
              "1419                 en  Google Play Store  \n",
              "1420                 en  Google Play Store  \n",
              "1421                 en  Google Play Store  \n",
              "\n",
              "[1422 rows x 7 columns]"
            ],
            "text/html": [
              "\n",
              "  <div id=\"df-c5ff87ed-a04d-4a48-afcc-ae6b6e703ac6\">\n",
              "    <div class=\"colab-df-container\">\n",
              "      <div>\n",
              "<style scoped>\n",
              "    .dataframe tbody tr th:only-of-type {\n",
              "        vertical-align: middle;\n",
              "    }\n",
              "\n",
              "    .dataframe tbody tr th {\n",
              "        vertical-align: top;\n",
              "    }\n",
              "\n",
              "    .dataframe thead th {\n",
              "        text-align: right;\n",
              "    }\n",
              "</style>\n",
              "<table border=\"1\" class=\"dataframe\">\n",
              "  <thead>\n",
              "    <tr style=\"text-align: right;\">\n",
              "      <th></th>\n",
              "      <th>App name</th>\n",
              "      <th>Username</th>\n",
              "      <th>Timestamp</th>\n",
              "      <th>App review text</th>\n",
              "      <th>Sentiment score</th>\n",
              "      <th>country (language)</th>\n",
              "      <th>Marketplace</th>\n",
              "    </tr>\n",
              "  </thead>\n",
              "  <tbody>\n",
              "    <tr>\n",
              "      <th>0</th>\n",
              "      <td>Crypto.com - Buy BTC, ETH</td>\n",
              "      <td>BKO</td>\n",
              "      <td>2022-06-18 18:10:03</td>\n",
              "      <td>I've had a great experience with this app. At ...</td>\n",
              "      <td>0.995971</td>\n",
              "      <td>en</td>\n",
              "      <td>Google Play Store</td>\n",
              "    </tr>\n",
              "    <tr>\n",
              "      <th>1</th>\n",
              "      <td>Crypto.com - Buy BTC, ETH</td>\n",
              "      <td>Ryan Jessup</td>\n",
              "      <td>2022-05-31 18:12:34</td>\n",
              "      <td>Opened my ap this morning and it just keeps te...</td>\n",
              "      <td>0.939697</td>\n",
              "      <td>en</td>\n",
              "      <td>Google Play Store</td>\n",
              "    </tr>\n",
              "    <tr>\n",
              "      <th>2</th>\n",
              "      <td>Crypto.com - Buy BTC, ETH</td>\n",
              "      <td>Blake Kent</td>\n",
              "      <td>2021-06-17 07:49:31</td>\n",
              "      <td>I'm not quite sure why there are SO MANY bad r...</td>\n",
              "      <td>0.996500</td>\n",
              "      <td>en</td>\n",
              "      <td>Google Play Store</td>\n",
              "    </tr>\n",
              "    <tr>\n",
              "      <th>3</th>\n",
              "      <td>Crypto.com - Buy BTC, ETH</td>\n",
              "      <td>Tooth Picks</td>\n",
              "      <td>2021-11-09 11:52:13</td>\n",
              "      <td>It has its problems, mainly on the fact that i...</td>\n",
              "      <td>-0.991211</td>\n",
              "      <td>en</td>\n",
              "      <td>Google Play Store</td>\n",
              "    </tr>\n",
              "    <tr>\n",
              "      <th>4</th>\n",
              "      <td>Crypto.com - Buy BTC, ETH</td>\n",
              "      <td>Adam Cooper</td>\n",
              "      <td>2021-03-26 11:28:52</td>\n",
              "      <td>I personally have had a great experience so fa...</td>\n",
              "      <td>0.996602</td>\n",
              "      <td>en</td>\n",
              "      <td>Google Play Store</td>\n",
              "    </tr>\n",
              "    <tr>\n",
              "      <th>...</th>\n",
              "      <td>...</td>\n",
              "      <td>...</td>\n",
              "      <td>...</td>\n",
              "      <td>...</td>\n",
              "      <td>...</td>\n",
              "      <td>...</td>\n",
              "      <td>...</td>\n",
              "    </tr>\n",
              "    <tr>\n",
              "      <th>1417</th>\n",
              "      <td>SoBit: Bitcoin Wallet - BTC</td>\n",
              "      <td>Bush Vital</td>\n",
              "      <td>2022-08-03 12:37:05</td>\n",
              "      <td>light, fast and seems to be reliable</td>\n",
              "      <td>0.958312</td>\n",
              "      <td>en</td>\n",
              "      <td>Google Play Store</td>\n",
              "    </tr>\n",
              "    <tr>\n",
              "      <th>1418</th>\n",
              "      <td>SoBit: Bitcoin Wallet - BTC</td>\n",
              "      <td>Webster Kuldip</td>\n",
              "      <td>2022-08-03 12:36:44</td>\n",
              "      <td>How can I delete the account and data for this...</td>\n",
              "      <td>-0.996736</td>\n",
              "      <td>en</td>\n",
              "      <td>Google Play Store</td>\n",
              "    </tr>\n",
              "    <tr>\n",
              "      <th>1419</th>\n",
              "      <td>SoBit: Bitcoin Wallet - BTC</td>\n",
              "      <td>Boyer Canal</td>\n",
              "      <td>2022-08-03 08:05:02</td>\n",
              "      <td>Enjoyed and can play in your cell phone,, Chan...</td>\n",
              "      <td>0.995572</td>\n",
              "      <td>en</td>\n",
              "      <td>Google Play Store</td>\n",
              "    </tr>\n",
              "    <tr>\n",
              "      <th>1420</th>\n",
              "      <td>SoBit: Bitcoin Wallet - BTC</td>\n",
              "      <td>Depuydt Hagert</td>\n",
              "      <td>2022-08-21 05:02:26</td>\n",
              "      <td>It's worth using. Not bad</td>\n",
              "      <td>-0.711233</td>\n",
              "      <td>en</td>\n",
              "      <td>Google Play Store</td>\n",
              "    </tr>\n",
              "    <tr>\n",
              "      <th>1421</th>\n",
              "      <td>SoBit: Bitcoin Wallet - BTC</td>\n",
              "      <td>Horn Hwa</td>\n",
              "      <td>2022-08-04 08:07:17</td>\n",
              "      <td>This one is easy but had some plobles long way...</td>\n",
              "      <td>-0.950682</td>\n",
              "      <td>en</td>\n",
              "      <td>Google Play Store</td>\n",
              "    </tr>\n",
              "  </tbody>\n",
              "</table>\n",
              "<p>1422 rows × 7 columns</p>\n",
              "</div>\n",
              "      <button class=\"colab-df-convert\" onclick=\"convertToInteractive('df-c5ff87ed-a04d-4a48-afcc-ae6b6e703ac6')\"\n",
              "              title=\"Convert this dataframe to an interactive table.\"\n",
              "              style=\"display:none;\">\n",
              "        \n",
              "  <svg xmlns=\"http://www.w3.org/2000/svg\" height=\"24px\"viewBox=\"0 0 24 24\"\n",
              "       width=\"24px\">\n",
              "    <path d=\"M0 0h24v24H0V0z\" fill=\"none\"/>\n",
              "    <path d=\"M18.56 5.44l.94 2.06.94-2.06 2.06-.94-2.06-.94-.94-2.06-.94 2.06-2.06.94zm-11 1L8.5 8.5l.94-2.06 2.06-.94-2.06-.94L8.5 2.5l-.94 2.06-2.06.94zm10 10l.94 2.06.94-2.06 2.06-.94-2.06-.94-.94-2.06-.94 2.06-2.06.94z\"/><path d=\"M17.41 7.96l-1.37-1.37c-.4-.4-.92-.59-1.43-.59-.52 0-1.04.2-1.43.59L10.3 9.45l-7.72 7.72c-.78.78-.78 2.05 0 2.83L4 21.41c.39.39.9.59 1.41.59.51 0 1.02-.2 1.41-.59l7.78-7.78 2.81-2.81c.8-.78.8-2.07 0-2.86zM5.41 20L4 18.59l7.72-7.72 1.47 1.35L5.41 20z\"/>\n",
              "  </svg>\n",
              "      </button>\n",
              "      \n",
              "  <style>\n",
              "    .colab-df-container {\n",
              "      display:flex;\n",
              "      flex-wrap:wrap;\n",
              "      gap: 12px;\n",
              "    }\n",
              "\n",
              "    .colab-df-convert {\n",
              "      background-color: #E8F0FE;\n",
              "      border: none;\n",
              "      border-radius: 50%;\n",
              "      cursor: pointer;\n",
              "      display: none;\n",
              "      fill: #1967D2;\n",
              "      height: 32px;\n",
              "      padding: 0 0 0 0;\n",
              "      width: 32px;\n",
              "    }\n",
              "\n",
              "    .colab-df-convert:hover {\n",
              "      background-color: #E2EBFA;\n",
              "      box-shadow: 0px 1px 2px rgba(60, 64, 67, 0.3), 0px 1px 3px 1px rgba(60, 64, 67, 0.15);\n",
              "      fill: #174EA6;\n",
              "    }\n",
              "\n",
              "    [theme=dark] .colab-df-convert {\n",
              "      background-color: #3B4455;\n",
              "      fill: #D2E3FC;\n",
              "    }\n",
              "\n",
              "    [theme=dark] .colab-df-convert:hover {\n",
              "      background-color: #434B5C;\n",
              "      box-shadow: 0px 1px 3px 1px rgba(0, 0, 0, 0.15);\n",
              "      filter: drop-shadow(0px 1px 2px rgba(0, 0, 0, 0.3));\n",
              "      fill: #FFFFFF;\n",
              "    }\n",
              "  </style>\n",
              "\n",
              "      <script>\n",
              "        const buttonEl =\n",
              "          document.querySelector('#df-c5ff87ed-a04d-4a48-afcc-ae6b6e703ac6 button.colab-df-convert');\n",
              "        buttonEl.style.display =\n",
              "          google.colab.kernel.accessAllowed ? 'block' : 'none';\n",
              "\n",
              "        async function convertToInteractive(key) {\n",
              "          const element = document.querySelector('#df-c5ff87ed-a04d-4a48-afcc-ae6b6e703ac6');\n",
              "          const dataTable =\n",
              "            await google.colab.kernel.invokeFunction('convertToInteractive',\n",
              "                                                     [key], {});\n",
              "          if (!dataTable) return;\n",
              "\n",
              "          const docLinkHtml = 'Like what you see? Visit the ' +\n",
              "            '<a target=\"_blank\" href=https://colab.research.google.com/notebooks/data_table.ipynb>data table notebook</a>'\n",
              "            + ' to learn more about interactive tables.';\n",
              "          element.innerHTML = '';\n",
              "          dataTable['output_type'] = 'display_data';\n",
              "          await google.colab.output.renderOutput(dataTable, element);\n",
              "          const docLink = document.createElement('div');\n",
              "          docLink.innerHTML = docLinkHtml;\n",
              "          element.appendChild(docLink);\n",
              "        }\n",
              "      </script>\n",
              "    </div>\n",
              "  </div>\n",
              "  "
            ]
          },
          "metadata": {},
          "execution_count": 3
        }
      ],
      "source": [
        "import pandas as pd\n",
        "\n",
        "df = pd.read_csv('final_data.csv')\n",
        "\n",
        "df"
      ]
    },
    {
      "cell_type": "markdown",
      "source": [
        "Each app has at least 100 reviews in this dataset. Numbers vary from 100 to 200 because the data was collected in two steps. \n",
        "Below is a graph with all apps in the dataset and their number of reviews."
      ],
      "metadata": {
        "id": "e6vOMo86JrB_"
      }
    },
    {
      "cell_type": "code",
      "source": [
        "df.groupby(['App name']).agg({'Username': 'count'}).plot.bar()"
      ],
      "metadata": {
        "id": "KdA_qGjGLW8M",
        "colab": {
          "base_uri": "https://localhost:8080/",
          "height": 451
        },
        "outputId": "3382ed5b-dc3b-40ce-dcba-5008ffa27750"
      },
      "execution_count": 7,
      "outputs": [
        {
          "output_type": "execute_result",
          "data": {
            "text/plain": [
              "<matplotlib.axes._subplots.AxesSubplot at 0x7f3e63c89c50>"
            ]
          },
          "metadata": {},
          "execution_count": 7
        },
        {
          "output_type": "display_data",
          "data": {
            "text/plain": [
              "<Figure size 432x288 with 1 Axes>"
            ],
            "image/png": "[encoded data removed]"
          },
          "metadata": {
            "needs_background": "light"
          }
        }
      ]
    },
    {
      "cell_type": "markdown",
      "source": [
        "The table below shows that most comments were published in 2022"
      ],
      "metadata": {
        "id": "nRqKpLrITi3v"
      }
    },
    {
      "cell_type": "code",
      "source": [
        "df['year'] = df['Timestamp'].apply(lambda x: pd.Timestamp(x).year)\n",
        "df.groupby('year').agg({'year': 'count'}).plot.bar()"
      ],
      "metadata": {
        "colab": {
          "base_uri": "https://localhost:8080/",
          "height": 313
        },
        "id": "1qUVhi1nPh2W",
        "outputId": "56f8c572-fcda-4b6e-f8f8-ffc6c51efa72"
      },
      "execution_count": 65,
      "outputs": [
        {
          "output_type": "execute_result",
          "data": {
            "text/plain": [
              "<matplotlib.axes._subplots.AxesSubplot at 0x7f3e614df590>"
            ]
          },
          "metadata": {},
          "execution_count": 65
        },
        {
          "output_type": "display_data",
          "data": {
            "text/plain": [
              "<Figure size 432x288 with 1 Axes>"
            ],
            "image/png": "[encoded data removed]"
          },
          "metadata": {
            "needs_background": "light"
          }
        }
      ]
    },
    {
      "cell_type": "markdown",
      "source": [
        "According to the chart below, most comments were published from 9am to 2pm, which is odd."
      ],
      "metadata": {
        "id": "NYr2AhYOUMcO"
      }
    },
    {
      "cell_type": "code",
      "source": [
        "df['hour'] = df['Timestamp'].apply(lambda x: pd.Timestamp(x).hour)\n",
        "df.groupby('hour').agg({'hour': 'count'}).plot()"
      ],
      "metadata": {
        "colab": {
          "base_uri": "https://localhost:8080/",
          "height": 297
        },
        "id": "PDvFwHX6T_lv",
        "outputId": "2df4c5b8-7f1f-493a-cf16-27dce8196527"
      },
      "execution_count": 67,
      "outputs": [
        {
          "output_type": "execute_result",
          "data": {
            "text/plain": [
              "<matplotlib.axes._subplots.AxesSubplot at 0x7f3e6134a490>"
            ]
          },
          "metadata": {},
          "execution_count": 67
        },
        {
          "output_type": "display_data",
          "data": {
            "text/plain": [
              "<Figure size 432x288 with 1 Axes>"
            ],
            "image/png": "[encoded data removed]"
          },
          "metadata": {
            "needs_background": "light"
          }
        }
      ]
    },
    {
      "cell_type": "markdown",
      "source": [
        "In our dataset Sentiment Score shows just the model score. If the number is negative (less than 0), then the comment is negative too and vice versa. That is made so because the project task was ambigious about 'Sentiment score'. \n",
        "\n",
        "When filling in our data I multiplied the score by -1 to get a negative number if the label was negative."
      ],
      "metadata": {
        "id": "nHNyKGZFODT1"
      }
    },
    {
      "cell_type": "code",
      "source": [
        "def zero(x):\n",
        "    if float(x) > 0:\n",
        "        return 'pos'\n",
        "    elif float(x) < 0:\n",
        "        return 'neg'\n",
        "    else:\n",
        "        return 'neut'\n",
        "\n",
        "df['tag'] = df['Sentiment score'].apply(zero)\n",
        "stats = df.groupby(['tag']).agg({'Username': 'count'})\n",
        "stats.plot.bar()\n"
      ],
      "metadata": {
        "colab": {
          "base_uri": "https://localhost:8080/",
          "height": 306
        },
        "id": "QTEb0g7SL2Lr",
        "outputId": "78aa6afa-cdbe-449e-ece4-3dbda7724e0d"
      },
      "execution_count": 18,
      "outputs": [
        {
          "output_type": "execute_result",
          "data": {
            "text/plain": [
              "<matplotlib.axes._subplots.AxesSubplot at 0x7f3e61b4ff90>"
            ]
          },
          "metadata": {},
          "execution_count": 18
        },
        {
          "output_type": "display_data",
          "data": {
            "text/plain": [
              "<Figure size 432x288 with 1 Axes>"
            ],
            "image/png": "[encoded data removed]"
          },
          "metadata": {
            "needs_background": "light"
          }
        }
      ]
    },
    {
      "cell_type": "code",
      "source": [
        "stats"
      ],
      "metadata": {
        "colab": {
          "base_uri": "https://localhost:8080/",
          "height": 143
        },
        "id": "P7u893RkMoA4",
        "outputId": "a23c15f9-38ec-45c9-fa62-0bb2b5cc8d56"
      },
      "execution_count": 20,
      "outputs": [
        {
          "output_type": "execute_result",
          "data": {
            "text/plain": [
              "     Username\n",
              "tag          \n",
              "neg       146\n",
              "pos      1276"
            ],
            "text/html": [
              "\n",
              "  <div id=\"df-b059395b-5b45-42d3-8f05-5b618cec3c9b\">\n",
              "    <div class=\"colab-df-container\">\n",
              "      <div>\n",
              "<style scoped>\n",
              "    .dataframe tbody tr th:only-of-type {\n",
              "        vertical-align: middle;\n",
              "    }\n",
              "\n",
              "    .dataframe tbody tr th {\n",
              "        vertical-align: top;\n",
              "    }\n",
              "\n",
              "    .dataframe thead th {\n",
              "        text-align: right;\n",
              "    }\n",
              "</style>\n",
              "<table border=\"1\" class=\"dataframe\">\n",
              "  <thead>\n",
              "    <tr style=\"text-align: right;\">\n",
              "      <th></th>\n",
              "      <th>Username</th>\n",
              "    </tr>\n",
              "    <tr>\n",
              "      <th>tag</th>\n",
              "      <th></th>\n",
              "    </tr>\n",
              "  </thead>\n",
              "  <tbody>\n",
              "    <tr>\n",
              "      <th>neg</th>\n",
              "      <td>146</td>\n",
              "    </tr>\n",
              "    <tr>\n",
              "      <th>pos</th>\n",
              "      <td>1276</td>\n",
              "    </tr>\n",
              "  </tbody>\n",
              "</table>\n",
              "</div>\n",
              "      <button class=\"colab-df-convert\" onclick=\"convertToInteractive('df-b059395b-5b45-42d3-8f05-5b618cec3c9b')\"\n",
              "              title=\"Convert this dataframe to an interactive table.\"\n",
              "              style=\"display:none;\">\n",
              "        \n",
              "  <svg xmlns=\"http://www.w3.org/2000/svg\" height=\"24px\"viewBox=\"0 0 24 24\"\n",
              "       width=\"24px\">\n",
              "    <path d=\"M0 0h24v24H0V0z\" fill=\"none\"/>\n",
              "    <path d=\"M18.56 5.44l.94 2.06.94-2.06 2.06-.94-2.06-.94-.94-2.06-.94 2.06-2.06.94zm-11 1L8.5 8.5l.94-2.06 2.06-.94-2.06-.94L8.5 2.5l-.94 2.06-2.06.94zm10 10l.94 2.06.94-2.06 2.06-.94-2.06-.94-.94-2.06-.94 2.06-2.06.94z\"/><path d=\"M17.41 7.96l-1.37-1.37c-.4-.4-.92-.59-1.43-.59-.52 0-1.04.2-1.43.59L10.3 9.45l-7.72 7.72c-.78.78-.78 2.05 0 2.83L4 21.41c.39.39.9.59 1.41.59.51 0 1.02-.2 1.41-.59l7.78-7.78 2.81-2.81c.8-.78.8-2.07 0-2.86zM5.41 20L4 18.59l7.72-7.72 1.47 1.35L5.41 20z\"/>\n",
              "  </svg>\n",
              "      </button>\n",
              "      \n",
              "  <style>\n",
              "    .colab-df-container {\n",
              "      display:flex;\n",
              "      flex-wrap:wrap;\n",
              "      gap: 12px;\n",
              "    }\n",
              "\n",
              "    .colab-df-convert {\n",
              "      background-color: #E8F0FE;\n",
              "      border: none;\n",
              "      border-radius: 50%;\n",
              "      cursor: pointer;\n",
              "      display: none;\n",
              "      fill: #1967D2;\n",
              "      height: 32px;\n",
              "      padding: 0 0 0 0;\n",
              "      width: 32px;\n",
              "    }\n",
              "\n",
              "    .colab-df-convert:hover {\n",
              "      background-color: #E2EBFA;\n",
              "      box-shadow: 0px 1px 2px rgba(60, 64, 67, 0.3), 0px 1px 3px 1px rgba(60, 64, 67, 0.15);\n",
              "      fill: #174EA6;\n",
              "    }\n",
              "\n",
              "    [theme=dark] .colab-df-convert {\n",
              "      background-color: #3B4455;\n",
              "      fill: #D2E3FC;\n",
              "    }\n",
              "\n",
              "    [theme=dark] .colab-df-convert:hover {\n",
              "      background-color: #434B5C;\n",
              "      box-shadow: 0px 1px 3px 1px rgba(0, 0, 0, 0.15);\n",
              "      filter: drop-shadow(0px 1px 2px rgba(0, 0, 0, 0.3));\n",
              "      fill: #FFFFFF;\n",
              "    }\n",
              "  </style>\n",
              "\n",
              "      <script>\n",
              "        const buttonEl =\n",
              "          document.querySelector('#df-b059395b-5b45-42d3-8f05-5b618cec3c9b button.colab-df-convert');\n",
              "        buttonEl.style.display =\n",
              "          google.colab.kernel.accessAllowed ? 'block' : 'none';\n",
              "\n",
              "        async function convertToInteractive(key) {\n",
              "          const element = document.querySelector('#df-b059395b-5b45-42d3-8f05-5b618cec3c9b');\n",
              "          const dataTable =\n",
              "            await google.colab.kernel.invokeFunction('convertToInteractive',\n",
              "                                                     [key], {});\n",
              "          if (!dataTable) return;\n",
              "\n",
              "          const docLinkHtml = 'Like what you see? Visit the ' +\n",
              "            '<a target=\"_blank\" href=https://colab.research.google.com/notebooks/data_table.ipynb>data table notebook</a>'\n",
              "            + ' to learn more about interactive tables.';\n",
              "          element.innerHTML = '';\n",
              "          dataTable['output_type'] = 'display_data';\n",
              "          await google.colab.output.renderOutput(dataTable, element);\n",
              "          const docLink = document.createElement('div');\n",
              "          docLink.innerHTML = docLinkHtml;\n",
              "          element.appendChild(docLink);\n",
              "        }\n",
              "      </script>\n",
              "    </div>\n",
              "  </div>\n",
              "  "
            ]
          },
          "metadata": {},
          "execution_count": 20
        }
      ]
    },
    {
      "cell_type": "markdown",
      "source": [
        "The majority of comments are positive (1276). Our dataset contains only 146 negative comments."
      ],
      "metadata": {
        "id": "FUBI2RF5NniU"
      }
    },
    {
      "cell_type": "code",
      "source": [
        "df.groupby(['country (language)']).agg({'Username': 'count'})"
      ],
      "metadata": {
        "colab": {
          "base_uri": "https://localhost:8080/",
          "height": 206
        },
        "id": "i0cw5Ps_KOpL",
        "outputId": "c5ce602f-ee21-48f7-a052-4c543f05e066"
      },
      "execution_count": 10,
      "outputs": [
        {
          "output_type": "execute_result",
          "data": {
            "text/plain": [
              "                    Username\n",
              "country (language)          \n",
              "bg                         1\n",
              "en                      1419\n",
              "ru                         1\n",
              "sv                         1"
            ],
            "text/html": [
              "\n",
              "  <div id=\"df-079af688-d874-4182-89e8-1dc731477930\">\n",
              "    <div class=\"colab-df-container\">\n",
              "      <div>\n",
              "<style scoped>\n",
              "    .dataframe tbody tr th:only-of-type {\n",
              "        vertical-align: middle;\n",
              "    }\n",
              "\n",
              "    .dataframe tbody tr th {\n",
              "        vertical-align: top;\n",
              "    }\n",
              "\n",
              "    .dataframe thead th {\n",
              "        text-align: right;\n",
              "    }\n",
              "</style>\n",
              "<table border=\"1\" class=\"dataframe\">\n",
              "  <thead>\n",
              "    <tr style=\"text-align: right;\">\n",
              "      <th></th>\n",
              "      <th>Username</th>\n",
              "    </tr>\n",
              "    <tr>\n",
              "      <th>country (language)</th>\n",
              "      <th></th>\n",
              "    </tr>\n",
              "  </thead>\n",
              "  <tbody>\n",
              "    <tr>\n",
              "      <th>bg</th>\n",
              "      <td>1</td>\n",
              "    </tr>\n",
              "    <tr>\n",
              "      <th>en</th>\n",
              "      <td>1419</td>\n",
              "    </tr>\n",
              "    <tr>\n",
              "      <th>ru</th>\n",
              "      <td>1</td>\n",
              "    </tr>\n",
              "    <tr>\n",
              "      <th>sv</th>\n",
              "      <td>1</td>\n",
              "    </tr>\n",
              "  </tbody>\n",
              "</table>\n",
              "</div>\n",
              "      <button class=\"colab-df-convert\" onclick=\"convertToInteractive('df-079af688-d874-4182-89e8-1dc731477930')\"\n",
              "              title=\"Convert this dataframe to an interactive table.\"\n",
              "              style=\"display:none;\">\n",
              "        \n",
              "  <svg xmlns=\"http://www.w3.org/2000/svg\" height=\"24px\"viewBox=\"0 0 24 24\"\n",
              "       width=\"24px\">\n",
              "    <path d=\"M0 0h24v24H0V0z\" fill=\"none\"/>\n",
              "    <path d=\"M18.56 5.44l.94 2.06.94-2.06 2.06-.94-2.06-.94-.94-2.06-.94 2.06-2.06.94zm-11 1L8.5 8.5l.94-2.06 2.06-.94-2.06-.94L8.5 2.5l-.94 2.06-2.06.94zm10 10l.94 2.06.94-2.06 2.06-.94-2.06-.94-.94-2.06-.94 2.06-2.06.94z\"/><path d=\"M17.41 7.96l-1.37-1.37c-.4-.4-.92-.59-1.43-.59-.52 0-1.04.2-1.43.59L10.3 9.45l-7.72 7.72c-.78.78-.78 2.05 0 2.83L4 21.41c.39.39.9.59 1.41.59.51 0 1.02-.2 1.41-.59l7.78-7.78 2.81-2.81c.8-.78.8-2.07 0-2.86zM5.41 20L4 18.59l7.72-7.72 1.47 1.35L5.41 20z\"/>\n",
              "  </svg>\n",
              "      </button>\n",
              "      \n",
              "  <style>\n",
              "    .colab-df-container {\n",
              "      display:flex;\n",
              "      flex-wrap:wrap;\n",
              "      gap: 12px;\n",
              "    }\n",
              "\n",
              "    .colab-df-convert {\n",
              "      background-color: #E8F0FE;\n",
              "      border: none;\n",
              "      border-radius: 50%;\n",
              "      cursor: pointer;\n",
              "      display: none;\n",
              "      fill: #1967D2;\n",
              "      height: 32px;\n",
              "      padding: 0 0 0 0;\n",
              "      width: 32px;\n",
              "    }\n",
              "\n",
              "    .colab-df-convert:hover {\n",
              "      background-color: #E2EBFA;\n",
              "      box-shadow: 0px 1px 2px rgba(60, 64, 67, 0.3), 0px 1px 3px 1px rgba(60, 64, 67, 0.15);\n",
              "      fill: #174EA6;\n",
              "    }\n",
              "\n",
              "    [theme=dark] .colab-df-convert {\n",
              "      background-color: #3B4455;\n",
              "      fill: #D2E3FC;\n",
              "    }\n",
              "\n",
              "    [theme=dark] .colab-df-convert:hover {\n",
              "      background-color: #434B5C;\n",
              "      box-shadow: 0px 1px 3px 1px rgba(0, 0, 0, 0.15);\n",
              "      filter: drop-shadow(0px 1px 2px rgba(0, 0, 0, 0.3));\n",
              "      fill: #FFFFFF;\n",
              "    }\n",
              "  </style>\n",
              "\n",
              "      <script>\n",
              "        const buttonEl =\n",
              "          document.querySelector('#df-079af688-d874-4182-89e8-1dc731477930 button.colab-df-convert');\n",
              "        buttonEl.style.display =\n",
              "          google.colab.kernel.accessAllowed ? 'block' : 'none';\n",
              "\n",
              "        async function convertToInteractive(key) {\n",
              "          const element = document.querySelector('#df-079af688-d874-4182-89e8-1dc731477930');\n",
              "          const dataTable =\n",
              "            await google.colab.kernel.invokeFunction('convertToInteractive',\n",
              "                                                     [key], {});\n",
              "          if (!dataTable) return;\n",
              "\n",
              "          const docLinkHtml = 'Like what you see? Visit the ' +\n",
              "            '<a target=\"_blank\" href=https://colab.research.google.com/notebooks/data_table.ipynb>data table notebook</a>'\n",
              "            + ' to learn more about interactive tables.';\n",
              "          element.innerHTML = '';\n",
              "          dataTable['output_type'] = 'display_data';\n",
              "          await google.colab.output.renderOutput(dataTable, element);\n",
              "          const docLink = document.createElement('div');\n",
              "          docLink.innerHTML = docLinkHtml;\n",
              "          element.appendChild(docLink);\n",
              "        }\n",
              "      </script>\n",
              "    </div>\n",
              "  </div>\n",
              "  "
            ]
          },
          "metadata": {},
          "execution_count": 10
        }
      ]
    },
    {
      "cell_type": "markdown",
      "source": [
        "As can be seen from the table above, the vast majority of comments are written in English. Only 3 reviews in other languages: Russian, Swedish and Bulgarian."
      ],
      "metadata": {
        "id": "CAdEaj4yKznd"
      }
    },
    {
      "cell_type": "code",
      "source": [
        "df.groupby(['country (language)']).agg({'Username': 'count'}).plot.bar()"
      ],
      "metadata": {
        "colab": {
          "base_uri": "https://localhost:8080/",
          "height": 300
        },
        "id": "ipZZheEHKotF",
        "outputId": "1df0b42a-f94c-48a9-91ff-27d637ced999"
      },
      "execution_count": 11,
      "outputs": [
        {
          "output_type": "execute_result",
          "data": {
            "text/plain": [
              "<matplotlib.axes._subplots.AxesSubplot at 0x7f3e63bbbf10>"
            ]
          },
          "metadata": {},
          "execution_count": 11
        },
        {
          "output_type": "display_data",
          "data": {
            "text/plain": [
              "<Figure size 432x288 with 1 Axes>"
            ],
            "image/png": "[encoded data removed]"
          },
          "metadata": {
            "needs_background": "light"
          }
        }
      ]
    },
    {
      "cell_type": "markdown",
      "source": [
        "Word 'love' occurs in 121 reviews."
      ],
      "metadata": {
        "id": "oGVp84CYWiPS"
      }
    },
    {
      "cell_type": "code",
      "source": [
        "df = df.drop(['hour', 'year', 'tag'], axis=1)"
      ],
      "metadata": {
        "id": "GrrFdlHSW5Z3"
      },
      "execution_count": 94,
      "outputs": []
    },
    {
      "cell_type": "code",
      "source": [
        "df[df['App review text'].str.contains('love ')]"
      ],
      "metadata": {
        "colab": {
          "base_uri": "https://localhost:8080/",
          "height": 467
        },
        "id": "g6kIPcbILyJm",
        "outputId": "3e98007f-7ba8-4678-957f-49a69f3fc501"
      },
      "execution_count": 95,
      "outputs": [
        {
          "output_type": "execute_result",
          "data": {
            "text/plain": [
              "                            App name              Username  \\\n",
              "0          Crypto.com - Buy BTC, ETH                   BKO   \n",
              "3          Crypto.com - Buy BTC, ETH           Tooth Picks   \n",
              "7          Crypto.com - Buy BTC, ETH  Christopher Fallucca   \n",
              "10         Crypto.com - Buy BTC, ETH         Sorie Bangura   \n",
              "12         Crypto.com - Buy BTC, ETH        Shannon O'Hara   \n",
              "...                              ...                   ...   \n",
              "1336  Binance: BTC, 600+ Crypto, NFT          GLITTER FART   \n",
              "1354  Binance: BTC, 600+ Crypto, NFT           Raka Canzhy   \n",
              "1355  Binance: BTC, 600+ Crypto, NFT           Isaac Annan   \n",
              "1378     SoBit: Bitcoin Wallet - BTC         Guiao Bundren   \n",
              "1385     SoBit: Bitcoin Wallet - BTC      Benack Alberthal   \n",
              "\n",
              "                Timestamp                                    App review text  \\\n",
              "0     2022-06-18 18:10:03  I've had a great experience with this app. At ...   \n",
              "3     2021-11-09 11:52:13  It has its problems, mainly on the fact that i...   \n",
              "7     2022-08-23 13:13:55  Exceptional in every way. Just be sure to impo...   \n",
              "10    2022-08-19 19:33:53  I'm also having trouble with the 2FA. I can't ...   \n",
              "12    2022-07-25 03:19:30  I love this app. I started out with several an...   \n",
              "...                   ...                                                ...   \n",
              "1336  2022-06-29 10:43:45  I love the app and what it has to offer. in my...   \n",
              "1354  2022-06-29 06:05:26  The most usefull and helpfull platform that al...   \n",
              "1355  2022-08-21 20:14:49  Binance is the platform sooo ever ...i will ra...   \n",
              "1378  2022-08-17 17:54:40  Best & amazing featureable Bitcoin/Bitcoin wal...   \n",
              "1385  2022-08-15 17:25:04  Have processed over $500 in btc so far. Paymen...   \n",
              "\n",
              "      Sentiment score country (language)        Marketplace  \n",
              "0            0.995971                 en  Google Play Store  \n",
              "3           -0.991211                 en  Google Play Store  \n",
              "7            0.995712                 en  Google Play Store  \n",
              "10          -0.995044                 en  Google Play Store  \n",
              "12           0.996585                 en  Google Play Store  \n",
              "...               ...                ...                ...  \n",
              "1336         0.996634                 en  Google Play Store  \n",
              "1354         0.995283                 en  Google Play Store  \n",
              "1355         0.995068                 en  Google Play Store  \n",
              "1378         0.997858                 en  Google Play Store  \n",
              "1385         0.949350                 en  Google Play Store  \n",
              "\n",
              "[121 rows x 7 columns]"
            ],
            "text/html": [
              "\n",
              "  <div id=\"df-a6c10c91-2d5f-4ff5-9060-977a007ea872\">\n",
              "    <div class=\"colab-df-container\">\n",
              "      <div>\n",
              "<style scoped>\n",
              "    .dataframe tbody tr th:only-of-type {\n",
              "        vertical-align: middle;\n",
              "    }\n",
              "\n",
              "    .dataframe tbody tr th {\n",
              "        vertical-align: top;\n",
              "    }\n",
              "\n",
              "    .dataframe thead th {\n",
              "        text-align: right;\n",
              "    }\n",
              "</style>\n",
              "<table border=\"1\" class=\"dataframe\">\n",
              "  <thead>\n",
              "    <tr style=\"text-align: right;\">\n",
              "      <th></th>\n",
              "      <th>App name</th>\n",
              "      <th>Username</th>\n",
              "      <th>Timestamp</th>\n",
              "      <th>App review text</th>\n",
              "      <th>Sentiment score</th>\n",
              "      <th>country (language)</th>\n",
              "      <th>Marketplace</th>\n",
              "    </tr>\n",
              "  </thead>\n",
              "  <tbody>\n",
              "    <tr>\n",
              "      <th>0</th>\n",
              "      <td>Crypto.com - Buy BTC, ETH</td>\n",
              "      <td>BKO</td>\n",
              "      <td>2022-06-18 18:10:03</td>\n",
              "      <td>I've had a great experience with this app. At ...</td>\n",
              "      <td>0.995971</td>\n",
              "      <td>en</td>\n",
              "      <td>Google Play Store</td>\n",
              "    </tr>\n",
              "    <tr>\n",
              "      <th>3</th>\n",
              "      <td>Crypto.com - Buy BTC, ETH</td>\n",
              "      <td>Tooth Picks</td>\n",
              "      <td>2021-11-09 11:52:13</td>\n",
              "      <td>It has its problems, mainly on the fact that i...</td>\n",
              "      <td>-0.991211</td>\n",
              "      <td>en</td>\n",
              "      <td>Google Play Store</td>\n",
              "    </tr>\n",
              "    <tr>\n",
              "      <th>7</th>\n",
              "      <td>Crypto.com - Buy BTC, ETH</td>\n",
              "      <td>Christopher Fallucca</td>\n",
              "      <td>2022-08-23 13:13:55</td>\n",
              "      <td>Exceptional in every way. Just be sure to impo...</td>\n",
              "      <td>0.995712</td>\n",
              "      <td>en</td>\n",
              "      <td>Google Play Store</td>\n",
              "    </tr>\n",
              "    <tr>\n",
              "      <th>10</th>\n",
              "      <td>Crypto.com - Buy BTC, ETH</td>\n",
              "      <td>Sorie Bangura</td>\n",
              "      <td>2022-08-19 19:33:53</td>\n",
              "      <td>I'm also having trouble with the 2FA. I can't ...</td>\n",
              "      <td>-0.995044</td>\n",
              "      <td>en</td>\n",
              "      <td>Google Play Store</td>\n",
              "    </tr>\n",
              "    <tr>\n",
              "      <th>12</th>\n",
              "      <td>Crypto.com - Buy BTC, ETH</td>\n",
              "      <td>Shannon O'Hara</td>\n",
              "      <td>2022-07-25 03:19:30</td>\n",
              "      <td>I love this app. I started out with several an...</td>\n",
              "      <td>0.996585</td>\n",
              "      <td>en</td>\n",
              "      <td>Google Play Store</td>\n",
              "    </tr>\n",
              "    <tr>\n",
              "      <th>...</th>\n",
              "      <td>...</td>\n",
              "      <td>...</td>\n",
              "      <td>...</td>\n",
              "      <td>...</td>\n",
              "      <td>...</td>\n",
              "      <td>...</td>\n",
              "      <td>...</td>\n",
              "    </tr>\n",
              "    <tr>\n",
              "      <th>1336</th>\n",
              "      <td>Binance: BTC, 600+ Crypto, NFT</td>\n",
              "      <td>GLITTER FART</td>\n",
              "      <td>2022-06-29 10:43:45</td>\n",
              "      <td>I love the app and what it has to offer. in my...</td>\n",
              "      <td>0.996634</td>\n",
              "      <td>en</td>\n",
              "      <td>Google Play Store</td>\n",
              "    </tr>\n",
              "    <tr>\n",
              "      <th>1354</th>\n",
              "      <td>Binance: BTC, 600+ Crypto, NFT</td>\n",
              "      <td>Raka Canzhy</td>\n",
              "      <td>2022-06-29 06:05:26</td>\n",
              "      <td>The most usefull and helpfull platform that al...</td>\n",
              "      <td>0.995283</td>\n",
              "      <td>en</td>\n",
              "      <td>Google Play Store</td>\n",
              "    </tr>\n",
              "    <tr>\n",
              "      <th>1355</th>\n",
              "      <td>Binance: BTC, 600+ Crypto, NFT</td>\n",
              "      <td>Isaac Annan</td>\n",
              "      <td>2022-08-21 20:14:49</td>\n",
              "      <td>Binance is the platform sooo ever ...i will ra...</td>\n",
              "      <td>0.995068</td>\n",
              "      <td>en</td>\n",
              "      <td>Google Play Store</td>\n",
              "    </tr>\n",
              "    <tr>\n",
              "      <th>1378</th>\n",
              "      <td>SoBit: Bitcoin Wallet - BTC</td>\n",
              "      <td>Guiao Bundren</td>\n",
              "      <td>2022-08-17 17:54:40</td>\n",
              "      <td>Best &amp; amazing featureable Bitcoin/Bitcoin wal...</td>\n",
              "      <td>0.997858</td>\n",
              "      <td>en</td>\n",
              "      <td>Google Play Store</td>\n",
              "    </tr>\n",
              "    <tr>\n",
              "      <th>1385</th>\n",
              "      <td>SoBit: Bitcoin Wallet - BTC</td>\n",
              "      <td>Benack Alberthal</td>\n",
              "      <td>2022-08-15 17:25:04</td>\n",
              "      <td>Have processed over $500 in btc so far. Paymen...</td>\n",
              "      <td>0.949350</td>\n",
              "      <td>en</td>\n",
              "      <td>Google Play Store</td>\n",
              "    </tr>\n",
              "  </tbody>\n",
              "</table>\n",
              "<p>121 rows × 7 columns</p>\n",
              "</div>\n",
              "      <button class=\"colab-df-convert\" onclick=\"convertToInteractive('df-a6c10c91-2d5f-4ff5-9060-977a007ea872')\"\n",
              "              title=\"Convert this dataframe to an interactive table.\"\n",
              "              style=\"display:none;\">\n",
              "        \n",
              "  <svg xmlns=\"http://www.w3.org/2000/svg\" height=\"24px\"viewBox=\"0 0 24 24\"\n",
              "       width=\"24px\">\n",
              "    <path d=\"M0 0h24v24H0V0z\" fill=\"none\"/>\n",
              "    <path d=\"M18.56 5.44l.94 2.06.94-2.06 2.06-.94-2.06-.94-.94-2.06-.94 2.06-2.06.94zm-11 1L8.5 8.5l.94-2.06 2.06-.94-2.06-.94L8.5 2.5l-.94 2.06-2.06.94zm10 10l.94 2.06.94-2.06 2.06-.94-2.06-.94-.94-2.06-.94 2.06-2.06.94z\"/><path d=\"M17.41 7.96l-1.37-1.37c-.4-.4-.92-.59-1.43-.59-.52 0-1.04.2-1.43.59L10.3 9.45l-7.72 7.72c-.78.78-.78 2.05 0 2.83L4 21.41c.39.39.9.59 1.41.59.51 0 1.02-.2 1.41-.59l7.78-7.78 2.81-2.81c.8-.78.8-2.07 0-2.86zM5.41 20L4 18.59l7.72-7.72 1.47 1.35L5.41 20z\"/>\n",
              "  </svg>\n",
              "      </button>\n",
              "      \n",
              "  <style>\n",
              "    .colab-df-container {\n",
              "      display:flex;\n",
              "      flex-wrap:wrap;\n",
              "      gap: 12px;\n",
              "    }\n",
              "\n",
              "    .colab-df-convert {\n",
              "      background-color: #E8F0FE;\n",
              "      border: none;\n",
              "      border-radius: 50%;\n",
              "      cursor: pointer;\n",
              "      display: none;\n",
              "      fill: #1967D2;\n",
              "      height: 32px;\n",
              "      padding: 0 0 0 0;\n",
              "      width: 32px;\n",
              "    }\n",
              "\n",
              "    .colab-df-convert:hover {\n",
              "      background-color: #E2EBFA;\n",
              "      box-shadow: 0px 1px 2px rgba(60, 64, 67, 0.3), 0px 1px 3px 1px rgba(60, 64, 67, 0.15);\n",
              "      fill: #174EA6;\n",
              "    }\n",
              "\n",
              "    [theme=dark] .colab-df-convert {\n",
              "      background-color: #3B4455;\n",
              "      fill: #D2E3FC;\n",
              "    }\n",
              "\n",
              "    [theme=dark] .colab-df-convert:hover {\n",
              "      background-color: #434B5C;\n",
              "      box-shadow: 0px 1px 3px 1px rgba(0, 0, 0, 0.15);\n",
              "      filter: drop-shadow(0px 1px 2px rgba(0, 0, 0, 0.3));\n",
              "      fill: #FFFFFF;\n",
              "    }\n",
              "  </style>\n",
              "\n",
              "      <script>\n",
              "        const buttonEl =\n",
              "          document.querySelector('#df-a6c10c91-2d5f-4ff5-9060-977a007ea872 button.colab-df-convert');\n",
              "        buttonEl.style.display =\n",
              "          google.colab.kernel.accessAllowed ? 'block' : 'none';\n",
              "\n",
              "        async function convertToInteractive(key) {\n",
              "          const element = document.querySelector('#df-a6c10c91-2d5f-4ff5-9060-977a007ea872');\n",
              "          const dataTable =\n",
              "            await google.colab.kernel.invokeFunction('convertToInteractive',\n",
              "                                                     [key], {});\n",
              "          if (!dataTable) return;\n",
              "\n",
              "          const docLinkHtml = 'Like what you see? Visit the ' +\n",
              "            '<a target=\"_blank\" href=https://colab.research.google.com/notebooks/data_table.ipynb>data table notebook</a>'\n",
              "            + ' to learn more about interactive tables.';\n",
              "          element.innerHTML = '';\n",
              "          dataTable['output_type'] = 'display_data';\n",
              "          await google.colab.output.renderOutput(dataTable, element);\n",
              "          const docLink = document.createElement('div');\n",
              "          docLink.innerHTML = docLinkHtml;\n",
              "          element.appendChild(docLink);\n",
              "        }\n",
              "      </script>\n",
              "    </div>\n",
              "  </div>\n",
              "  "
            ]
          },
          "metadata": {},
          "execution_count": 95
        }
      ]
    },
    {
      "cell_type": "markdown",
      "source": [
        "While the word 'hate' just twice."
      ],
      "metadata": {
        "id": "CWmeZrguWr8o"
      }
    },
    {
      "cell_type": "code",
      "source": [
        "df[df['App review text'].str.contains('hate ')]"
      ],
      "metadata": {
        "colab": {
          "base_uri": "https://localhost:8080/",
          "height": 112
        },
        "id": "RPUiDvA7Wskr",
        "outputId": "31f1a67a-7339-49b5-fe72-75b72698c696"
      },
      "execution_count": 96,
      "outputs": [
        {
          "output_type": "execute_result",
          "data": {
            "text/plain": [
              "                          App name              Username            Timestamp  \\\n",
              "269  Coinbase: Buy Bitcoin & Ether  Nobitsu The Bluemage  2022-03-28 20:29:59   \n",
              "422     Robinhood: Stocks & Crypto         A Google user  2019-11-09 17:48:37   \n",
              "\n",
              "                                       App review text  Sentiment score  \\\n",
              "269  EDIT (3/28/2022) As of late, more coins/tokens...        -0.988293   \n",
              "422  I love this app, it got me into investing. It'...         0.995946   \n",
              "\n",
              "    country (language)        Marketplace  \n",
              "269                 en  Google Play Store  \n",
              "422                 en  Google Play Store  "
            ],
            "text/html": [
              "\n",
              "  <div id=\"df-d7785f24-a3b7-49bc-bfdb-4ff9b4ff0b61\">\n",
              "    <div class=\"colab-df-container\">\n",
              "      <div>\n",
              "<style scoped>\n",
              "    .dataframe tbody tr th:only-of-type {\n",
              "        vertical-align: middle;\n",
              "    }\n",
              "\n",
              "    .dataframe tbody tr th {\n",
              "        vertical-align: top;\n",
              "    }\n",
              "\n",
              "    .dataframe thead th {\n",
              "        text-align: right;\n",
              "    }\n",
              "</style>\n",
              "<table border=\"1\" class=\"dataframe\">\n",
              "  <thead>\n",
              "    <tr style=\"text-align: right;\">\n",
              "      <th></th>\n",
              "      <th>App name</th>\n",
              "      <th>Username</th>\n",
              "      <th>Timestamp</th>\n",
              "      <th>App review text</th>\n",
              "      <th>Sentiment score</th>\n",
              "      <th>country (language)</th>\n",
              "      <th>Marketplace</th>\n",
              "    </tr>\n",
              "  </thead>\n",
              "  <tbody>\n",
              "    <tr>\n",
              "      <th>269</th>\n",
              "      <td>Coinbase: Buy Bitcoin &amp; Ether</td>\n",
              "      <td>Nobitsu The Bluemage</td>\n",
              "      <td>2022-03-28 20:29:59</td>\n",
              "      <td>EDIT (3/28/2022) As of late, more coins/tokens...</td>\n",
              "      <td>-0.988293</td>\n",
              "      <td>en</td>\n",
              "      <td>Google Play Store</td>\n",
              "    </tr>\n",
              "    <tr>\n",
              "      <th>422</th>\n",
              "      <td>Robinhood: Stocks &amp; Crypto</td>\n",
              "      <td>A Google user</td>\n",
              "      <td>2019-11-09 17:48:37</td>\n",
              "      <td>I love this app, it got me into investing. It'...</td>\n",
              "      <td>0.995946</td>\n",
              "      <td>en</td>\n",
              "      <td>Google Play Store</td>\n",
              "    </tr>\n",
              "  </tbody>\n",
              "</table>\n",
              "</div>\n",
              "      <button class=\"colab-df-convert\" onclick=\"convertToInteractive('df-d7785f24-a3b7-49bc-bfdb-4ff9b4ff0b61')\"\n",
              "              title=\"Convert this dataframe to an interactive table.\"\n",
              "              style=\"display:none;\">\n",
              "        \n",
              "  <svg xmlns=\"http://www.w3.org/2000/svg\" height=\"24px\"viewBox=\"0 0 24 24\"\n",
              "       width=\"24px\">\n",
              "    <path d=\"M0 0h24v24H0V0z\" fill=\"none\"/>\n",
              "    <path d=\"M18.56 5.44l.94 2.06.94-2.06 2.06-.94-2.06-.94-.94-2.06-.94 2.06-2.06.94zm-11 1L8.5 8.5l.94-2.06 2.06-.94-2.06-.94L8.5 2.5l-.94 2.06-2.06.94zm10 10l.94 2.06.94-2.06 2.06-.94-2.06-.94-.94-2.06-.94 2.06-2.06.94z\"/><path d=\"M17.41 7.96l-1.37-1.37c-.4-.4-.92-.59-1.43-.59-.52 0-1.04.2-1.43.59L10.3 9.45l-7.72 7.72c-.78.78-.78 2.05 0 2.83L4 21.41c.39.39.9.59 1.41.59.51 0 1.02-.2 1.41-.59l7.78-7.78 2.81-2.81c.8-.78.8-2.07 0-2.86zM5.41 20L4 18.59l7.72-7.72 1.47 1.35L5.41 20z\"/>\n",
              "  </svg>\n",
              "      </button>\n",
              "      \n",
              "  <style>\n",
              "    .colab-df-container {\n",
              "      display:flex;\n",
              "      flex-wrap:wrap;\n",
              "      gap: 12px;\n",
              "    }\n",
              "\n",
              "    .colab-df-convert {\n",
              "      background-color: #E8F0FE;\n",
              "      border: none;\n",
              "      border-radius: 50%;\n",
              "      cursor: pointer;\n",
              "      display: none;\n",
              "      fill: #1967D2;\n",
              "      height: 32px;\n",
              "      padding: 0 0 0 0;\n",
              "      width: 32px;\n",
              "    }\n",
              "\n",
              "    .colab-df-convert:hover {\n",
              "      background-color: #E2EBFA;\n",
              "      box-shadow: 0px 1px 2px rgba(60, 64, 67, 0.3), 0px 1px 3px 1px rgba(60, 64, 67, 0.15);\n",
              "      fill: #174EA6;\n",
              "    }\n",
              "\n",
              "    [theme=dark] .colab-df-convert {\n",
              "      background-color: #3B4455;\n",
              "      fill: #D2E3FC;\n",
              "    }\n",
              "\n",
              "    [theme=dark] .colab-df-convert:hover {\n",
              "      background-color: #434B5C;\n",
              "      box-shadow: 0px 1px 3px 1px rgba(0, 0, 0, 0.15);\n",
              "      filter: drop-shadow(0px 1px 2px rgba(0, 0, 0, 0.3));\n",
              "      fill: #FFFFFF;\n",
              "    }\n",
              "  </style>\n",
              "\n",
              "      <script>\n",
              "        const buttonEl =\n",
              "          document.querySelector('#df-d7785f24-a3b7-49bc-bfdb-4ff9b4ff0b61 button.colab-df-convert');\n",
              "        buttonEl.style.display =\n",
              "          google.colab.kernel.accessAllowed ? 'block' : 'none';\n",
              "\n",
              "        async function convertToInteractive(key) {\n",
              "          const element = document.querySelector('#df-d7785f24-a3b7-49bc-bfdb-4ff9b4ff0b61');\n",
              "          const dataTable =\n",
              "            await google.colab.kernel.invokeFunction('convertToInteractive',\n",
              "                                                     [key], {});\n",
              "          if (!dataTable) return;\n",
              "\n",
              "          const docLinkHtml = 'Like what you see? Visit the ' +\n",
              "            '<a target=\"_blank\" href=https://colab.research.google.com/notebooks/data_table.ipynb>data table notebook</a>'\n",
              "            + ' to learn more about interactive tables.';\n",
              "          element.innerHTML = '';\n",
              "          dataTable['output_type'] = 'display_data';\n",
              "          await google.colab.output.renderOutput(dataTable, element);\n",
              "          const docLink = document.createElement('div');\n",
              "          docLink.innerHTML = docLinkHtml;\n",
              "          element.appendChild(docLink);\n",
              "        }\n",
              "      </script>\n",
              "    </div>\n",
              "  </div>\n",
              "  "
            ]
          },
          "metadata": {},
          "execution_count": 96
        }
      ]
    }
  ]
}